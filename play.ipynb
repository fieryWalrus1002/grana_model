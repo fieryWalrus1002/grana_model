{
 "cells": [
  {
   "cell_type": "code",
   "execution_count": 1,
   "metadata": {},
   "outputs": [],
   "source": [
    "import numpy as np\n",
    "import random\n",
    "import matplotlib.pyplot as plt\n",
    "import pathlib\n",
    "import pandas as pd\n",
    "import os"
   ]
  },
  {
   "cell_type": "markdown",
   "metadata": {},
   "source": []
  },
  {
   "cell_type": "code",
   "execution_count": 2,
   "metadata": {},
   "outputs": [],
   "source": [
    "\n",
    "def calc_step(self, d):\n",
    "    return np.sqrt(4 * d * 2)\n",
    "\n",
    "def convert_d_from_nm2_ns_to_cm2_s(d: float):\n",
    "    return d * 1e-14 / 1e-9\n",
    "\n",
    "def convert_d_from_cm2_s_to_nm2_ns(d: float):\n",
    "    return d * 1e-9 / 1e-14\n",
    "\n",
    "def calc_d_from_step(step):\n",
    "        \"\"\"calculates the d value based on the step nm distance\"\"\"\n",
    "        return (step**2) / (4 * 2)"
   ]
  },
  {
   "cell_type": "code",
   "execution_count": 3,
   "metadata": {},
   "outputs": [],
   "source": [
    "%matplotlib inline\n",
    "\n",
    "file_str = \"src\\\\grana_model\\\\res\\log\\\\01072022_displacement_data.csv\"\n",
    "\n",
    "filename = f\"{pathlib.Path.cwd()}/{file_str}\"\n",
    "\n",
    "if os.path.exists(filename):\n",
    "    df = pd.read_csv(filename)\n",
    "else:\n",
    "    print(f\"{filename} does not exist\")\n",
    "\n",
    "df[\"displacement_sq\"] = df[\"displacement\"]**2\n"
   ]
  },
  {
   "cell_type": "code",
   "execution_count": 5,
   "metadata": {},
   "outputs": [
    {
     "name": "stdout",
     "output_type": "stream",
     "text": [
      "meas D = 1.28e-04\n",
      "exp D = 1.88e-04\n",
      "step_nm = 0.03202 nm\n"
     ]
    }
   ],
   "source": [
    "selection = df[['time', 'displacement_sq']].groupby(\"time\").mean()\n",
    "\n",
    "lm_time = np.arange(0, 2000)\n",
    "\n",
    "line_y = np.linspace(0, np.max(selection[\"displacement_sq\"]), 2000)\n",
    "\n",
    "lm = np.poly1d(np.polyfit(df[\"time\"], df[\"displacement_sq\"], 1))\n",
    "   \n",
    "d = calc_d_from_step(step=lm.coef[0])\n",
    "d_text = f\"meas D = {d:.2e}\"\n",
    "exp_text = f\"exp D = {convert_d_from_cm2_s_to_nm2_ns(d=1.88e-9):.2e}\" # 1.88e-9 cm2/s\n",
    "    \n",
    "step_text = f\"step_nm = {round(lm.coef[0], 5)} nm\"\n",
    "\n",
    "print(d_text)\n",
    "print(exp_text)\n",
    "print(step_text)\n"
   ]
  },
  {
   "cell_type": "code",
   "execution_count": 6,
   "metadata": {},
   "outputs": [
    {
     "data": {
      "text/plain": [
       "[<matplotlib.lines.Line2D at 0x213800f34f0>]"
      ]
     },
     "execution_count": 6,
     "metadata": {},
     "output_type": "execute_result"
    },
    {
     "data": {
      "image/png": "[encoded data removed]",
      "text/plain": [
       "<Figure size 432x288 with 1 Axes>"
      ]
     },
     "metadata": {
      "needs_background": "light"
     },
     "output_type": "display_data"
    }
   ],
   "source": [
    "\n",
    "\n",
    "# plot the displacement_sq against the fit\n",
    "\n",
    "plt.suptitle(\"displacement of LHCII from origin\")\n",
    "plt.title(\"D in cm2/s units\")\n",
    "plt.xlabel(\"time (ns)\")\n",
    "plt.ylabel(\"<r>^2\")\n",
    "plt.xlim(0, np.max(df[\"time\"]) * 1.05)\n",
    "plt.ylim(0, np.max(selection[\"displacement_sq\"]) * 1.05)\n",
    "plt.annotate(text=d_text, xy=(20, np.max(selection[\"displacement_sq\"]) * 0.95))\n",
    "plt.annotate(text=step_text, xy=(20, np.max(selection[\"displacement_sq\"]) * 0.85))\n",
    "plt.annotate(text=exp_text, xy=(20, np.max(selection[\"displacement_sq\"]) * 0.90))\n",
    "plt.plot(selection[\"displacement_sq\"])\n",
    "plt.plot(lm(lm_time))"
   ]
  },
  {
   "cell_type": "code",
   "execution_count": null,
   "metadata": {},
   "outputs": [],
   "source": [
    "d0 = 0.00018 # d0 in nm2/ns\n",
    "\n",
    "d1 = convert_d_from_nm2_ns_to_cm2_s(d0) # convert to cm2/s units\n",
    "\n",
    "d2 = convert_d_from_cm2_s_to_nm2_ns(d1) # convert the cm2/s units back to nm2/ns units\n",
    "\n",
    "print(f\"d0==d2 is {d0 == d2}\")\n",
    "\n",
    "step_nm = calc_step(d0)\n",
    "\n",
    "step_cm = calc_step(d1)\n",
    "\n",
    "print(f\"d0: {d0}, d1: {d1}, d2: {d2}\")\n",
    "\n",
    "print(f\"nm/ns step: {step_nm}\")\n",
    "\n",
    "print(f\"cm/s step: {step_cm}\")\n"
   ]
  },
  {
   "cell_type": "code",
   "execution_count": null,
   "metadata": {},
   "outputs": [],
   "source": [
    "df_d = pd.read_csv(\"C:\\\\projects\\\\grana_model\\\\src\\\\grana_model\\\\res\\log\\\\d_calc.csv\")\n",
    "print(df_d.mean())\n",
    "\n",
    "df_d.hist()"
   ]
  },
  {
   "cell_type": "code",
   "execution_count": null,
   "metadata": {},
   "outputs": [],
   "source": [
    "from src.grana_model.dcalibrator import DCalibrator\n",
    "\n",
    "structure_dict={\n",
    "                \"LHCII\": {\n",
    "                    \"d\": 1.8e-9,  # 1.8e-9 in cm2/s\n",
    "                    \"d_rot\": 2e13,  # 2 x 10^3  rad^2 s^(-1)\n",
    "                    \"simulation_limit\": 100000,\n",
    "                    \"distance_scalar\": \"well\",\n",
    "                    \"diffusion_scalar\": 1220.0,  # average over 250 steps, gave us this number for keeping step_nm equal to calculated step\n",
    "                    \"distance_threshold\": 50.0,\n",
    "                    \"mass\": 1000.0,\n",
    "                    \"mass_scalar\": 1.0,\n",
    "                    \"rotation_scalar\": 180.0,  # average over 250 steps, gives us <d_rot> of 2.00e13\n",
    "                    \"time_per_step\": 2,  # in ns\n",
    "                    \"average_step_over\": 250,\n",
    "                    \"calibrate_rot_d\": False,\n",
    "                    \"calibrate_diff_d\": False,\n",
    "                }\n",
    "}\n",
    "\n",
    "dcal = DCalibrator(structure_dict[\"LHCII\"])\n",
    "\n",
    "d_ns = dcal.convert_d_from_rads2_s_to_rads2_ns(d=2e13)\n",
    "print(d_ns)"
   ]
  }
 ],
 "metadata": {
  "kernelspec": {
   "display_name": "Python 3.9.12 ('sim')",
   "language": "python",
   "name": "python3"
  },
  "language_info": {
   "codemirror_mode": {
    "name": "ipython",
    "version": 3
   },
   "file_extension": ".py",
   "mimetype": "text/x-python",
   "name": "python",
   "nbconvert_exporter": "python",
   "pygments_lexer": "ipython3",
   "version": "3.9.12"
  },
  "orig_nbformat": 4,
  "vscode": {
   "interpreter": {
    "hash": "f9bc5cb7ec0992daba0695a9823e244b71b39dc358dc9742cfefbb2ae8088a2b"
   }
  }
 },
 "nbformat": 4,
 "nbformat_minor": 2
}
