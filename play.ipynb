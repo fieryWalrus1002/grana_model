{
 "cells": [
  {
   "cell_type": "code",
   "execution_count": 2,
   "metadata": {},
   "outputs": [],
   "source": [
    "import numpy as np\n",
    "import random\n",
    "import matplotlib.pyplot as plt\n",
    "import pathlib\n",
    "import pandas as pd\n",
    "import os"
   ]
  },
  {
   "cell_type": "code",
   "execution_count": 3,
   "metadata": {},
   "outputs": [],
   "source": [
    "def calc_step(d):\n",
    "    return np.sqrt(4 * d * 2)\n",
    "\n",
    "def convert_d_from_nm2_ns_to_cm2_s(d: float):\n",
    "    return d * 1e-14 / 1e-9\n",
    "\n",
    "def convert_d_from_cm2_s_to_nm2_ns(d: float):\n",
    "    return d * 1e-9 / 1e-14"
   ]
  },
  {
   "cell_type": "code",
   "execution_count": 41,
   "metadata": {},
   "outputs": [
    {
     "data": {
      "text/plain": [
       "<AxesSubplot:xlabel='time'>"
      ]
     },
     "execution_count": 41,
     "metadata": {},
     "output_type": "execute_result"
    },
    {
     "data": {
      "image/png": "[encoded data removed]",
      "text/plain": [
       "<Figure size 432x288 with 1 Axes>"
      ]
     },
     "metadata": {
      "needs_background": "light"
     },
     "output_type": "display_data"
    }
   ],
   "source": [
    "%matplotlib inline\n",
    "\n",
    "file_str = \"src\\\\grana_model\\\\res\\log\\\\29062022_displacement_data.csv\"\n",
    "\n",
    "filename = f\"{pathlib.Path.cwd()}/{file_str}\"\n",
    "\n",
    "if os.path.exists(filename):\n",
    "    df = pd.read_csv(filename)\n",
    "else:\n",
    "    print(f\"{filename} does not exist\")\n",
    "\n",
    "df[\"displacement_sq\"] = df[\"displacement\"]**2\n",
    "\n",
    "df[df['diffusion_scalar'] == 10.0].groupby(\"time\").mean().plot()\n",
    "df[df['diffusion_scalar'] == 10000.0].groupby(\"time\").mean()['displacement_sq'].plot()\n",
    " \n",
    "\n",
    "\n"
   ]
  },
  {
   "cell_type": "code",
   "execution_count": null,
   "metadata": {},
   "outputs": [],
   "source": [
    "\n",
    "lm_time = np.arange(0, 2000)\n",
    "\n",
    "line_y = np.linspace(0, np.max(mean_df[\"displacement_sq\"]), 2000)\n",
    "\n",
    "lm = np.poly1d(np.polyfit(df[\"time\"], df[\"displacement_sq\"], 1))\n",
    "\n",
    "# calculate d from the data\n",
    "d = lm.coef[0]\n",
    "\n",
    "step_nm = calc_step(d)\n",
    "d_text = f\"meas D = {round(convert_d_from_nm2_ns_to_cm2_s(d), 10)}\"\n",
    "exp_text = f\"exp D = {1.88 * 1e-9}\" # 1.88 * 1e-9 cm2/s\n",
    "step_text = f\"step_nm = {round(step_nm, 5)} nm\"\n",
    "\n",
    "print(d_text)\n",
    "print(exp_text)\n",
    "print(step_text)\n"
   ]
  },
  {
   "cell_type": "code",
   "execution_count": 76,
   "metadata": {},
   "outputs": [
    {
     "ename": "ValueError",
     "evalue": "setting an array element with a sequence.",
     "output_type": "error",
     "traceback": [
      "\u001b[1;31m---------------------------------------------------------------------------\u001b[0m",
      "\u001b[1;31mTypeError\u001b[0m                                 Traceback (most recent call last)",
      "\u001b[1;31mTypeError\u001b[0m: float() argument must be a string or a number, not 'tuple'",
      "\nThe above exception was the direct cause of the following exception:\n",
      "\u001b[1;31mValueError\u001b[0m                                Traceback (most recent call last)",
      "\u001b[1;32mc:\\projects\\grana_model\\play.ipynb Cell 4'\u001b[0m in \u001b[0;36m<cell line: 12>\u001b[1;34m()\u001b[0m\n\u001b[0;32m     <a href='vscode-notebook-cell:/c%3A/projects/grana_model/play.ipynb#ch0000013?line=9'>10</a>\u001b[0m plt\u001b[39m.\u001b[39mannotate(text\u001b[39m=\u001b[39mstep_text, xy\u001b[39m=\u001b[39m(\u001b[39m20\u001b[39m, np\u001b[39m.\u001b[39mmax(mean_df[\u001b[39m\"\u001b[39m\u001b[39mdisplacement_sq\u001b[39m\u001b[39m\"\u001b[39m]) \u001b[39m*\u001b[39m \u001b[39m0.85\u001b[39m))\n\u001b[0;32m     <a href='vscode-notebook-cell:/c%3A/projects/grana_model/play.ipynb#ch0000013?line=10'>11</a>\u001b[0m plt\u001b[39m.\u001b[39mannotate(text\u001b[39m=\u001b[39mexp_text, xy\u001b[39m=\u001b[39m(\u001b[39m20\u001b[39m, np\u001b[39m.\u001b[39mmax(mean_df[\u001b[39m\"\u001b[39m\u001b[39mdisplacement_sq\u001b[39m\u001b[39m\"\u001b[39m]) \u001b[39m*\u001b[39m \u001b[39m0.90\u001b[39m))\n\u001b[1;32m---> <a href='vscode-notebook-cell:/c%3A/projects/grana_model/play.ipynb#ch0000013?line=11'>12</a>\u001b[0m plt\u001b[39m.\u001b[39;49mplot(mean_df[\u001b[39m\"\u001b[39;49m\u001b[39mdisplacement_sq\u001b[39;49m\u001b[39m\"\u001b[39;49m])\n\u001b[0;32m     <a href='vscode-notebook-cell:/c%3A/projects/grana_model/play.ipynb#ch0000013?line=12'>13</a>\u001b[0m plt\u001b[39m.\u001b[39mplot(lm(lm_time))\n",
      "File \u001b[1;32mc:\\Users\\magnus.wood\\Anaconda3\\envs\\sim\\lib\\site-packages\\matplotlib\\pyplot.py:2769\u001b[0m, in \u001b[0;36mplot\u001b[1;34m(scalex, scaley, data, *args, **kwargs)\u001b[0m\n\u001b[0;32m   2767\u001b[0m \u001b[39m@_copy_docstring_and_deprecators\u001b[39m(Axes\u001b[39m.\u001b[39mplot)\n\u001b[0;32m   2768\u001b[0m \u001b[39mdef\u001b[39;00m \u001b[39mplot\u001b[39m(\u001b[39m*\u001b[39margs, scalex\u001b[39m=\u001b[39m\u001b[39mTrue\u001b[39;00m, scaley\u001b[39m=\u001b[39m\u001b[39mTrue\u001b[39;00m, data\u001b[39m=\u001b[39m\u001b[39mNone\u001b[39;00m, \u001b[39m*\u001b[39m\u001b[39m*\u001b[39mkwargs):\n\u001b[1;32m-> 2769\u001b[0m     \u001b[39mreturn\u001b[39;00m gca()\u001b[39m.\u001b[39mplot(\n\u001b[0;32m   2770\u001b[0m         \u001b[39m*\u001b[39margs, scalex\u001b[39m=\u001b[39mscalex, scaley\u001b[39m=\u001b[39mscaley,\n\u001b[0;32m   2771\u001b[0m         \u001b[39m*\u001b[39m\u001b[39m*\u001b[39m({\u001b[39m\"\u001b[39m\u001b[39mdata\u001b[39m\u001b[39m\"\u001b[39m: data} \u001b[39mif\u001b[39;00m data \u001b[39mis\u001b[39;00m \u001b[39mnot\u001b[39;00m \u001b[39mNone\u001b[39;00m \u001b[39melse\u001b[39;00m {}), \u001b[39m*\u001b[39m\u001b[39m*\u001b[39mkwargs)\n",
      "File \u001b[1;32mc:\\Users\\magnus.wood\\Anaconda3\\envs\\sim\\lib\\site-packages\\matplotlib\\axes\\_axes.py:1634\u001b[0m, in \u001b[0;36mAxes.plot\u001b[1;34m(self, scalex, scaley, data, *args, **kwargs)\u001b[0m\n\u001b[0;32m   1632\u001b[0m lines \u001b[39m=\u001b[39m [\u001b[39m*\u001b[39m\u001b[39mself\u001b[39m\u001b[39m.\u001b[39m_get_lines(\u001b[39m*\u001b[39margs, data\u001b[39m=\u001b[39mdata, \u001b[39m*\u001b[39m\u001b[39m*\u001b[39mkwargs)]\n\u001b[0;32m   1633\u001b[0m \u001b[39mfor\u001b[39;00m line \u001b[39min\u001b[39;00m lines:\n\u001b[1;32m-> 1634\u001b[0m     \u001b[39mself\u001b[39;49m\u001b[39m.\u001b[39;49madd_line(line)\n\u001b[0;32m   1635\u001b[0m \u001b[39mself\u001b[39m\u001b[39m.\u001b[39m_request_autoscale_view(scalex\u001b[39m=\u001b[39mscalex, scaley\u001b[39m=\u001b[39mscaley)\n\u001b[0;32m   1636\u001b[0m \u001b[39mreturn\u001b[39;00m lines\n",
      "File \u001b[1;32mc:\\Users\\magnus.wood\\Anaconda3\\envs\\sim\\lib\\site-packages\\matplotlib\\axes\\_base.py:2288\u001b[0m, in \u001b[0;36m_AxesBase.add_line\u001b[1;34m(self, line)\u001b[0m\n\u001b[0;32m   2285\u001b[0m \u001b[39mif\u001b[39;00m line\u001b[39m.\u001b[39mget_clip_path() \u001b[39mis\u001b[39;00m \u001b[39mNone\u001b[39;00m:\n\u001b[0;32m   2286\u001b[0m     line\u001b[39m.\u001b[39mset_clip_path(\u001b[39mself\u001b[39m\u001b[39m.\u001b[39mpatch)\n\u001b[1;32m-> 2288\u001b[0m \u001b[39mself\u001b[39;49m\u001b[39m.\u001b[39;49m_update_line_limits(line)\n\u001b[0;32m   2289\u001b[0m \u001b[39mif\u001b[39;00m \u001b[39mnot\u001b[39;00m line\u001b[39m.\u001b[39mget_label():\n\u001b[0;32m   2290\u001b[0m     line\u001b[39m.\u001b[39mset_label(\u001b[39mf\u001b[39m\u001b[39m'\u001b[39m\u001b[39m_child\u001b[39m\u001b[39m{\u001b[39;00m\u001b[39mlen\u001b[39m(\u001b[39mself\u001b[39m\u001b[39m.\u001b[39m_children)\u001b[39m}\u001b[39;00m\u001b[39m'\u001b[39m)\n",
      "File \u001b[1;32mc:\\Users\\magnus.wood\\Anaconda3\\envs\\sim\\lib\\site-packages\\matplotlib\\axes\\_base.py:2311\u001b[0m, in \u001b[0;36m_AxesBase._update_line_limits\u001b[1;34m(self, line)\u001b[0m\n\u001b[0;32m   2307\u001b[0m \u001b[39mdef\u001b[39;00m \u001b[39m_update_line_limits\u001b[39m(\u001b[39mself\u001b[39m, line):\n\u001b[0;32m   2308\u001b[0m     \u001b[39m\"\"\"\u001b[39;00m\n\u001b[0;32m   2309\u001b[0m \u001b[39m    Figures out the data limit of the given line, updating self.dataLim.\u001b[39;00m\n\u001b[0;32m   2310\u001b[0m \u001b[39m    \"\"\"\u001b[39;00m\n\u001b[1;32m-> 2311\u001b[0m     path \u001b[39m=\u001b[39m line\u001b[39m.\u001b[39;49mget_path()\n\u001b[0;32m   2312\u001b[0m     \u001b[39mif\u001b[39;00m path\u001b[39m.\u001b[39mvertices\u001b[39m.\u001b[39msize \u001b[39m==\u001b[39m \u001b[39m0\u001b[39m:\n\u001b[0;32m   2313\u001b[0m         \u001b[39mreturn\u001b[39;00m\n",
      "File \u001b[1;32mc:\\Users\\magnus.wood\\Anaconda3\\envs\\sim\\lib\\site-packages\\matplotlib\\lines.py:999\u001b[0m, in \u001b[0;36mLine2D.get_path\u001b[1;34m(self)\u001b[0m\n\u001b[0;32m    997\u001b[0m \u001b[39m\"\"\"Return the `~matplotlib.path.Path` associated with this line.\"\"\"\u001b[39;00m\n\u001b[0;32m    998\u001b[0m \u001b[39mif\u001b[39;00m \u001b[39mself\u001b[39m\u001b[39m.\u001b[39m_invalidy \u001b[39mor\u001b[39;00m \u001b[39mself\u001b[39m\u001b[39m.\u001b[39m_invalidx:\n\u001b[1;32m--> 999\u001b[0m     \u001b[39mself\u001b[39;49m\u001b[39m.\u001b[39;49mrecache()\n\u001b[0;32m   1000\u001b[0m \u001b[39mreturn\u001b[39;00m \u001b[39mself\u001b[39m\u001b[39m.\u001b[39m_path\n",
      "File \u001b[1;32mc:\\Users\\magnus.wood\\Anaconda3\\envs\\sim\\lib\\site-packages\\matplotlib\\lines.py:652\u001b[0m, in \u001b[0;36mLine2D.recache\u001b[1;34m(self, always)\u001b[0m\n\u001b[0;32m    650\u001b[0m \u001b[39mif\u001b[39;00m always \u001b[39mor\u001b[39;00m \u001b[39mself\u001b[39m\u001b[39m.\u001b[39m_invalidx:\n\u001b[0;32m    651\u001b[0m     xconv \u001b[39m=\u001b[39m \u001b[39mself\u001b[39m\u001b[39m.\u001b[39mconvert_xunits(\u001b[39mself\u001b[39m\u001b[39m.\u001b[39m_xorig)\n\u001b[1;32m--> 652\u001b[0m     x \u001b[39m=\u001b[39m _to_unmasked_float_array(xconv)\u001b[39m.\u001b[39mravel()\n\u001b[0;32m    653\u001b[0m \u001b[39melse\u001b[39;00m:\n\u001b[0;32m    654\u001b[0m     x \u001b[39m=\u001b[39m \u001b[39mself\u001b[39m\u001b[39m.\u001b[39m_x\n",
      "File \u001b[1;32mc:\\Users\\magnus.wood\\Anaconda3\\envs\\sim\\lib\\site-packages\\matplotlib\\cbook\\__init__.py:1298\u001b[0m, in \u001b[0;36m_to_unmasked_float_array\u001b[1;34m(x)\u001b[0m\n\u001b[0;32m   1296\u001b[0m     \u001b[39mreturn\u001b[39;00m np\u001b[39m.\u001b[39mma\u001b[39m.\u001b[39masarray(x, \u001b[39mfloat\u001b[39m)\u001b[39m.\u001b[39mfilled(np\u001b[39m.\u001b[39mnan)\n\u001b[0;32m   1297\u001b[0m \u001b[39melse\u001b[39;00m:\n\u001b[1;32m-> 1298\u001b[0m     \u001b[39mreturn\u001b[39;00m np\u001b[39m.\u001b[39;49masarray(x, \u001b[39mfloat\u001b[39;49m)\n",
      "\u001b[1;31mValueError\u001b[0m: setting an array element with a sequence."
     ]
    },
    {
     "data": {
      "image/png": "[encoded data removed]",
      "text/plain": [
       "<Figure size 432x288 with 1 Axes>"
      ]
     },
     "metadata": {
      "needs_background": "light"
     },
     "output_type": "display_data"
    }
   ],
   "source": [
    "\n",
    "# plot the displacement_sq against the fit\n",
    "\n",
    "plt.suptitle(\"displacement of LHCII from origin\")\n",
    "plt.title(\"D in cm2/s units\")\n",
    "plt.xlabel(\"time (ns)\")\n",
    "plt.ylabel(\"<r>^2\")\n",
    "plt.xlim(0, np.max(df[\"time\"]) * 1.05)\n",
    "plt.ylim(0, np.max(mean_df[\"displacement_sq\"]) * 1.05)\n",
    "plt.annotate(text=d_text, xy=(20, np.max(mean_df[\"displacement_sq\"]) * 0.95))\n",
    "plt.annotate(text=step_text, xy=(20, np.max(mean_df[\"displacement_sq\"]) * 0.85))\n",
    "plt.annotate(text=exp_text, xy=(20, np.max(mean_df[\"displacement_sq\"]) * 0.90))\n",
    "plt.plot(mean_df[\"displacement_sq\"])\n",
    "plt.plot(lm(lm_time))"
   ]
  },
  {
   "cell_type": "code",
   "execution_count": 7,
   "metadata": {},
   "outputs": [
    {
     "name": "stdout",
     "output_type": "stream",
     "text": [
      "d0==d2 is True\n",
      "d0: 0.00018, d1: 1.8e-09, d2: 0.00018\n",
      "nm/ns step: 0.03794733192202055\n",
      "cm/s step: 0.00012\n"
     ]
    }
   ],
   "source": [
    "d0 = 0.00018 # d0 in nm2/ns\n",
    "\n",
    "d1 = convert_d_from_nm2_ns_to_cm2_s(d0) # convert to cm2/s units\n",
    "\n",
    "d2 = convert_d_from_cm2_s_to_nm2_ns(d1) # convert the cm2/s units back to nm2/ns units\n",
    "\n",
    "print(f\"d0==d2 is {d0 == d2}\")\n",
    "\n",
    "step_nm = calc_step(d0)\n",
    "\n",
    "step_cm = calc_step(d1)\n",
    "\n",
    "print(f\"d0: {d0}, d1: {d1}, d2: {d2}\")\n",
    "\n",
    "print(f\"nm/ns step: {step_nm}\")\n",
    "\n",
    "print(f\"cm/s step: {step_cm}\")\n"
   ]
  }
 ],
 "metadata": {
  "kernelspec": {
   "display_name": "Python 3.9.12 ('sim')",
   "language": "python",
   "name": "python3"
  },
  "language_info": {
   "codemirror_mode": {
    "name": "ipython",
    "version": 3
   },
   "file_extension": ".py",
   "mimetype": "text/x-python",
   "name": "python",
   "nbconvert_exporter": "python",
   "pygments_lexer": "ipython3",
   "version": "3.9.12"
  },
  "orig_nbformat": 4,
  "vscode": {
   "interpreter": {
    "hash": "f9bc5cb7ec0992daba0695a9823e244b71b39dc358dc9742cfefbb2ae8088a2b"
   }
  }
 },
 "nbformat": 4,
 "nbformat_minor": 2
}
