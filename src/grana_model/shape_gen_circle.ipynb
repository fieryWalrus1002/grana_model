{
 "cells": [
  {
   "cell_type": "markdown",
   "metadata": {},
   "source": [
    "# Generating circle coordinates\n",
    "\n",
    "We have had issues with the overlap for the circle shapes, when using the built-in circle command in pymunk. We shall attempt to create custom circle coordinates of a specified diameter, in a clockwise direaction. \n"
   ]
  },
  {
   "cell_type": "code",
   "execution_count": 40,
   "metadata": {},
   "outputs": [],
   "source": [
    "from pathlib import Path\n",
    "import pandas as pd\n",
    "import numpy as np\n",
    "import matplotlib.pyplot as plt\n",
    "import csv\n",
    "from itertools import product\n",
    "import os\n",
    "from pathlib import Path"
   ]
  },
  {
   "cell_type": "code",
   "execution_count": null,
   "metadata": {},
   "outputs": [],
   "source": [
    "def generate_circle(radius, n_points):\n",
    "    theta = np.linspace(0, 2 * np.pi, n_points)\n",
    "    x = radius * np.cos(theta)\n",
    "    y = radius * np.sin(theta)\n",
    "    return x, y\n",
    "\n",
    "def save_shape_csv(radius, n_points, x, y, export_path):\n",
    "    with open(f\"{export_path}/lhcii_circle_r_{radius}_n_{n_points}_coords.csv\", \"w\") as f:\n",
    "        writer = csv.writer(f)\n",
    "        writer.writerow([\"x\", \"y\"])\n",
    "        for i in range(n_points):\n",
    "            writer.writerow([x[i], y[i]])\n",
    "\n",
    "def plot_and_save_fig(radius, n_points, x, y, export_path):\n",
    "    fig = plt.figure()\n",
    "    ax = fig.add_subplot(111)\n",
    "    plt.plot(x, y)\n",
    "    ax.set_aspect(\"equal\", adjustable=\"box\")\n",
    "    plt.title(f\"Circle with radius {radius} and {n_points} points\")\n",
    "    plt.savefig(f\"{export_path}/lhcii_circle_r_{radius}_n_{n_points}.png\")\n",
    "\n",
    "print(os.getcwd())\n",
    "\n",
    "r_list = [3.75, 4.5]\n",
    "n_list = [i for i in range(4, 100, 2)]\n",
    "coord_combos = [c for c in product(r_list, n_list)]\n",
    "\n",
    "\n",
    "for radius, nodes in coord_combos:\n",
    "    print(radius, nodes)\n",
    "    x, y = generate_circle(radius=radius, n_points=nodes)\n",
    "    save_shape_csv(radius=radius, n_points=nodes, x=x, y=y, export_path=\"res/shapes\")\n",
    "    plot_and_save_fig(radius=radius, n_points=nodes, x=x, y=y, export_path=\"c:\\projects\\grana_model\\shape_plots\")\n",
    "   \n",
    "\n",
    "\n",
    "\n",
    "# fig = plt.figure()\n",
    "# ax = fig.add_subplot(111)\n",
    "# plt.plot(big_coords[0], big_coords[1])\n",
    "# plt.plot(small_coords[0], small_coords[1])\n",
    "# ax.set_aspect(\"equal\", adjustable=\"box\")\n",
    "\n",
    "# plt.show()\n",
    "\n",
    "\n",
    "\n"
   ]
  },
  {
   "cell_type": "code",
   "execution_count": 44,
   "metadata": {},
   "outputs": [
    {
     "name": "stdout",
     "output_type": "stream",
     "text": [
      "[[3.75, 0.0], [3.6732372796968544, 0.7548694503324752], [3.4460917935758646, 1.4788344566749445], [3.077862904527286, 2.1422558066054718], [2.5836259465338247, 2.7179729521092], [1.983615038726109, 3.182415965605316], [1.302394698168076, 3.5165704955515515], [0.5678541656421626, 3.7067562162304175], [-0.1899343831451724, 3.745186901891448], [-0.9399469959702016, 3.630289195748266], [-1.651478068341129, 3.366767023390281], [-2.295397434553736, 2.965409013516369], [-2.845342960097966, 2.4426468102083336], [-3.278799810542183, 1.8198823594915536], [-3.578022211500183, 1.1226117111500926], [-3.730759962719607, 0.379381207452871], [-3.730759962719607, -0.3793812074528702], [-3.5780222115001834, -1.1226117111500915], [-3.2787998105421834, -1.8198823594915527], [-2.8453429600979665, -2.4426468102083327], [-2.295397434553735, -2.96540901351637], [-1.6514780683411283, -3.366767023390281], [-0.9399469959702018, -3.630289195748266], [-0.1899343831451725, -3.745186901891448], [0.5678541656421625, -3.7067562162304175], [1.302394698168076, -3.5165704955515515], [1.983615038726109, -3.182415965605316], [2.5836259465338243, -2.7179729521092], [3.077862904527286, -2.142255806605472], [3.4460917935758646, -1.4788344566749452], [3.6732372796968544, -0.7548694503324761], [3.75, -9.18485099360515e-16]]\n"
     ]
    }
   ],
   "source": [
    "structure = 'lhcii'\n",
    "r = 3.75\n",
    "n = 32\n",
    "filename = Path.cwd() / \"res\" / \"shapes\" / f\"{structure}_circle_r_{r}_n_{n}_coords.csv\"\n",
    "coord_list = pd.read_csv(filename).values.tolist()\n"
   ]
  }
 ],
 "metadata": {
  "kernelspec": {
   "display_name": "Python 3.9.12 ('sim')",
   "language": "python",
   "name": "python3"
  },
  "language_info": {
   "codemirror_mode": {
    "name": "ipython",
    "version": 3
   },
   "file_extension": ".py",
   "mimetype": "text/x-python",
   "name": "python",
   "nbconvert_exporter": "python",
   "pygments_lexer": "ipython3",
   "version": "3.9.12"
  },
  "orig_nbformat": 4,
  "vscode": {
   "interpreter": {
    "hash": "f9bc5cb7ec0992daba0695a9823e244b71b39dc358dc9742cfefbb2ae8088a2b"
   }
  }
 },
 "nbformat": 4,
 "nbformat_minor": 2
}
